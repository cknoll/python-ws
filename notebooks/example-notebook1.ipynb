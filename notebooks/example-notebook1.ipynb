{
 "cells": [
  {
   "cell_type": "markdown",
   "metadata": {},
   "source": [
    "# Jupyter Notebook introduction\n",
    "This is a markdown cell. It can contain\n",
    " * **formated** *text*\n",
    " * [links](http://nbviewer.ipython.org/)\n",
    " * $\\LaTeX$-Formulas like $E = m c^2$\n",
    " * images like this one: ![alt text](fsfw-logo2.svg \"FSFW-Logo\")\n",
    " Markdown cells serve to document complex thoughts."
   ]
  },
  {
   "cell_type": "code",
   "execution_count": 1,
   "metadata": {},
   "outputs": [
    {
     "name": "stdout",
     "output_type": "stream",
     "text": [
      "Hello World\n",
      "Hello World\n",
      "Hello World\n",
      "\n"
     ]
    }
   ],
   "source": [
    "# this is a code cell, that can be executed\n",
    "# output is shown below.\n",
    "a = 3\n",
    "s = \"Hello World\\n\"\n",
    "print(s*a)"
   ]
  }
 ],
 "metadata": {
  "kernelspec": {
   "display_name": "Python 3",
   "language": "python",
   "name": "python3"
  },
  "language_info": {
   "codemirror_mode": {
    "name": "ipython",
    "version": 3
   },
   "file_extension": ".py",
   "mimetype": "text/x-python",
   "name": "python",
   "nbconvert_exporter": "python",
   "pygments_lexer": "ipython3",
   "version": "3.5.3"
  }
 },
 "nbformat": 4,
 "nbformat_minor": 2
}
