{
 "cells": [
  {
   "cell_type": "code",
   "execution_count": 1,
   "metadata": {},
   "outputs": [],
   "source": [
    "# code of sympy1.py without print-statements\n",
    "import sympy as sp\n",
    "x = sp.Symbol(\"x\")\n",
    "a, b, c, z = sp.symbols(\"a b c z\") # create several symbols at once\n",
    "\n",
    "some_formula = a*b*x*b + b**2*a*x - c*b*(2*a/c*x*b-1/(b*2))\n",
    "\n",
    "# some calculus\n",
    "y = sp.sin(x)*sp.exp(3*x)*sp.sqrt(a)\n",
    "\n",
    "# derive\n",
    "yd = y.diff(x) \n",
    "\n",
    "# substitution\n",
    "y3 = y.subs([(x, z-1), (a, 25)])"
   ]
  },
  {
   "cell_type": "markdown",
   "metadata": {},
   "source": [
    "→ no output is generated"
   ]
  },
  {
   "cell_type": "code",
   "execution_count": 2,
   "metadata": {},
   "outputs": [],
   "source": [
    "# normaly this line would be in one of the first cells\n",
    "# located here for didactical reasons\n",
    "\n",
    "%load_ext ipydex.displaytools"
   ]
  },
  {
   "cell_type": "markdown",
   "metadata": {},
   "source": [
    "This extension introduces the special comment `##:`.\n",
    "\n",
    "It serves to display the results of assignments, thereby increasing the comprehensibility of the notebook.\n",
    "\n",
    "Note the difference:"
   ]
  },
  {
   "cell_type": "code",
   "execution_count": 3,
   "metadata": {},
   "outputs": [
    {
     "data": {
      "text/plain": [
       "some_formula := 2*a*b**2*x - b*c*(2*a*b*x/c - 1/(2*b))"
      ]
     },
     "metadata": {},
     "output_type": "display_data"
    },
    {
     "name": "stdout",
     "output_type": "stream",
     "text": [
      "---\n"
     ]
    },
    {
     "data": {
      "text/plain": [
       "y := sqrt(a)*exp(3*x)*sin(x)"
      ]
     },
     "metadata": {},
     "output_type": "display_data"
    },
    {
     "name": "stdout",
     "output_type": "stream",
     "text": [
      "---\n"
     ]
    },
    {
     "data": {
      "text/plain": [
       "yd := 3*sqrt(a)*exp(3*x)*sin(x) + sqrt(a)*exp(3*x)*cos(x)"
      ]
     },
     "metadata": {},
     "output_type": "display_data"
    },
    {
     "name": "stdout",
     "output_type": "stream",
     "text": [
      "---\n"
     ]
    },
    {
     "data": {
      "text/plain": [
       "y3 := 5*exp(3*z - 3)*sin(z - 1)"
      ]
     },
     "metadata": {},
     "output_type": "display_data"
    },
    {
     "name": "stdout",
     "output_type": "stream",
     "text": [
      "---\n"
     ]
    }
   ],
   "source": [
    "# same code with special-comments (`##:`)\n",
    "\n",
    "x = sp.Symbol(\"x\")\n",
    "a, b, c, z = sp.symbols(\"a b c z\") # create several symbols at once\n",
    "\n",
    "some_formula = a*b*x*b + b**2*a*x - c*b*(2*a/c*x*b-1/(b*2)) ##:\n",
    "\n",
    "# some calculus\n",
    "y = sp.sin(x)*sp.exp(3*x)*sp.sqrt(a) ##:\n",
    "\n",
    "# derive\n",
    "yd = y.diff(x) ##:\n",
    "\n",
    "# substitution\n",
    "y3 = y.subs([(x, z-1), (a, 25)]) ##:"
   ]
  },
  {
   "cell_type": "markdown",
   "metadata": {},
   "source": [
    "---\n",
    "Another trick: let sympy expressions be nicely rendered by $\\LaTeX$ ⇒ readability ↑."
   ]
  },
  {
   "cell_type": "code",
   "execution_count": 4,
   "metadata": {
    "collapsed": true
   },
   "outputs": [],
   "source": [
    "from sympy.interactive import printing\n",
    "printing.init_printing()"
   ]
  },
  {
   "cell_type": "code",
   "execution_count": 5,
   "metadata": {},
   "outputs": [
    {
     "data": {
      "image/png": "[encoded data removed]",
      "text/latex": [
       "$$\\texttt{some_formula} := 2 a b^{2} x - b c \\left(\\frac{2 a}{c} b x - \\frac{1}{2 b}\\right)$$"
      ],
      "text/plain": [
       "some_formula :=      2         ⎛2⋅a⋅b⋅x    1 ⎞\n",
       "2⋅a⋅b ⋅x - b⋅c⋅⎜─────── - ───⎟\n",
       "               ⎝   c      2⋅b⎠"
      ]
     },
     "metadata": {},
     "output_type": "display_data"
    },
    {
     "name": "stdout",
     "output_type": "stream",
     "text": [
      "---\n"
     ]
    },
    {
     "data": {
      "image/png": "[encoded data removed]",
      "text/latex": [
       "$$\\texttt{y} := \\sqrt{a} e^{3 x} \\sin{\\left (x \\right )}$$"
      ],
      "text/plain": [
       "y :=     3⋅x       \n",
       "√a⋅ℯ   ⋅sin(x)"
      ]
     },
     "metadata": {},
     "output_type": "display_data"
    },
    {
     "name": "stdout",
     "output_type": "stream",
     "text": [
      "---\n"
     ]
    },
    {
     "data": {
      "image/png": "[encoded data removed]",
      "text/latex": [
       "$$\\texttt{yd} := 3 \\sqrt{a} e^{3 x} \\sin{\\left (x \\right )} + \\sqrt{a} e^{3 x} \\cos{\\left (x \\right )}$$"
      ],
      "text/plain": [
       "yd :=       3⋅x              3⋅x       \n",
       "3⋅√a⋅ℯ   ⋅sin(x) + √a⋅ℯ   ⋅cos(x)"
      ]
     },
     "metadata": {},
     "output_type": "display_data"
    },
    {
     "name": "stdout",
     "output_type": "stream",
     "text": [
      "---\n"
     ]
    },
    {
     "data": {
      "image/png": "[encoded data removed]",
      "text/latex": [
       "$$\\texttt{y3} := 5 e^{3 z - 3} \\sin{\\left (z - 1 \\right )}$$"
      ],
      "text/plain": [
       "y3 :=    3⋅z - 3           \n",
       "5⋅ℯ       ⋅sin(z - 1)"
      ]
     },
     "metadata": {},
     "output_type": "display_data"
    },
    {
     "name": "stdout",
     "output_type": "stream",
     "text": [
      "---\n"
     ]
    }
   ],
   "source": [
    "# same code with special-comments (`##:`)\n",
    "\n",
    "x = sp.Symbol(\"x\")\n",
    "a, b, c, z = sp.symbols(\"a b c z\") # create several symbols at once\n",
    "\n",
    "some_formula = a*b*x*b + b**2*a*x - c*b*(2*a/c*x*b-1/(b*2)) ##:\n",
    "\n",
    "# some calculus\n",
    "y = sp.sin(x)*sp.exp(3*x)*sp.sqrt(a) ##:\n",
    "\n",
    "# derive\n",
    "yd = y.diff(x) ##:\n",
    "\n",
    "# substitution\n",
    "y3 = y.subs([(x, z-1), (a, 25)]) ##:"
   ]
  },
  {
   "cell_type": "code",
   "execution_count": null,
   "metadata": {
    "collapsed": true
   },
   "outputs": [],
   "source": []
  }
 ],
 "metadata": {
  "kernelspec": {
   "display_name": "Python 3",
   "language": "python",
   "name": "python3"
  },
  "language_info": {
   "codemirror_mode": {
    "name": "ipython",
    "version": 3
   },
   "file_extension": ".py",
   "mimetype": "text/x-python",
   "name": "python",
   "nbconvert_exporter": "python",
   "pygments_lexer": "ipython3",
   "version": "3.5.3"
  }
 },
 "nbformat": 4,
 "nbformat_minor": 2
}
