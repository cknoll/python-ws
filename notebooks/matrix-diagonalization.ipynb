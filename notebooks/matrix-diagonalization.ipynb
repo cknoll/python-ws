{
 "cells": [
  {
   "cell_type": "code",
   "execution_count": 8,
   "metadata": {},
   "outputs": [
    {
     "name": "stdout",
     "output_type": "stream",
     "text": [
      "The ipydex.displaytools extension is already loaded. To reload it, use:\n",
      "  %reload_ext ipydex.displaytools\n"
     ]
    }
   ],
   "source": [
    "import numpy as np\n",
    "np.set_printoptions(linewidth=270, precision=4) # improve readablity of large arrays\n",
    "\n",
    "%load_ext ipydex.displaytools"
   ]
  },
  {
   "cell_type": "markdown",
   "metadata": {},
   "source": [
    "This notebooks serves as an example for some basic linear algebra with numpy\n"
   ]
  },
  {
   "cell_type": "code",
   "execution_count": 23,
   "metadata": {},
   "outputs": [
    {
     "data": {
      "text/plain": [
       "e_values0 := array([ 0.2789,  5.4633,  7.4086, -9.8391, -3.8053,  9.1521,  0.2623, -3.6343])"
      ]
     },
     "metadata": {},
     "output_type": "display_data"
    },
    {
     "name": "stdout",
     "output_type": "stream",
     "text": [
      "---\n"
     ]
    },
    {
     "data": {
      "text/plain": [
       "e_values := array([ 0.3,  5.5,  7.4, -9.8, -3.8,  9.2,  0.3, -3.6])"
      ]
     },
     "metadata": {},
     "output_type": "display_data"
    },
    {
     "name": "stdout",
     "output_type": "stream",
     "text": [
      "---\n"
     ]
    },
    {
     "data": {
      "text/plain": [
       "D := array([[ 0.3,  0. ,  0. ,  0. ,  0. ,  0. ,  0. ,  0. ],\n",
       "       [ 0. ,  5.5,  0. ,  0. ,  0. ,  0. ,  0. ,  0. ],\n",
       "       [ 0. ,  0. ,  7.4,  0. ,  0. ,  0. ,  0. ,  0. ],\n",
       "       [ 0. ,  0. ,  0. , -9.8,  0. ,  0. ,  0. ,  0. ],\n",
       "       [ 0. ,  0. ,  0. ,  0. , -3.8,  0. ,  0. ,  0. ],\n",
       "       [ 0. ,  0. ,  0. ,  0. ,  0. ,  9.2,  0. ,  0. ],\n",
       "       [ 0. ,  0. ,  0. ,  0. ,  0. ,  0. ,  0.3,  0. ],\n",
       "       [ 0. ,  0. ,  0. ,  0. ,  0. ,  0. ,  0. , -3.6]])"
      ]
     },
     "metadata": {},
     "output_type": "display_data"
    },
    {
     "name": "stdout",
     "output_type": "stream",
     "text": [
      "---\n"
     ]
    }
   ],
   "source": [
    "# initialize random number generator to get reproducible results\n",
    "np.random.seed(14)\n",
    "\n",
    "N = 8\n",
    "e_values0 = np.random.random(N)*20 - 10 ##:\n",
    "\n",
    "# get some nice looking values\n",
    "e_values = np.round(e_values0, 1) ##:\n",
    "\n",
    "D = np.diag(e_values) ##:\n"
   ]
  },
  {
   "cell_type": "code",
   "execution_count": 24,
   "metadata": {},
   "outputs": [
    {
     "data": {
      "text/plain": [
       "T := array([[ 0.5392,  0.2213,  0.8065,  0.3423,  0.5389,  0.0059,  0.6732,  0.21  ],\n",
       "       [ 0.9326,  0.3742,  0.7524,  0.7631,  0.8705,  0.1101,  0.3001,  0.4749],\n",
       "       [ 0.6729,  0.2576,  0.7012,  0.657 ,  0.182 ,  0.3221,  0.8875,  0.0833],\n",
       "       [ 0.7466,  0.0624,  0.7315,  0.7425,  0.4079,  0.9914,  0.4521,  0.1899],\n",
       "       [ 0.3516,  0.7148,  0.3574,  0.0516,  0.3159,  0.9988,  0.2879,  0.4618],\n",
       "       [ 0.7353,  0.9437,  0.1754,  0.2124,  0.1325,  0.2087,  0.9957,  0.2466],\n",
       "       [ 0.1101,  0.5023,  0.4561,  0.7345,  0.6209,  0.6211,  0.1502,  0.5383],\n",
       "       [ 0.1203,  0.153 ,  0.4502,  0.4291,  0.7337,  0.0736,  0.2788,  0.1653]])"
      ]
     },
     "metadata": {},
     "output_type": "display_data"
    },
    {
     "name": "stdout",
     "output_type": "stream",
     "text": [
      "---\n"
     ]
    }
   ],
   "source": [
    "# create a random transformation matrix\n",
    "\n",
    "T = np.random.random((N, N)) ##:"
   ]
  },
  {
   "cell_type": "markdown",
   "metadata": {},
   "source": [
    "Background: Jordan transformation\n",
    "$$\n",
    "J = V^{-1} A V\n",
    "$$\n",
    "with $J$: Jordan-Matrix (eigenvalues on diagonal) and $V$ columnwise composed of eigenvectors\n",
    "\n",
    "$$\n",
    "\\Rightarrow A = V JV^{-1}\n",
    "$$\n"
   ]
  },
  {
   "cell_type": "code",
   "execution_count": 30,
   "metadata": {},
   "outputs": [
    {
     "data": {
      "text/plain": [
       "Tinv := array([[ -0.1581,   0.9376,  -0.8013,   0.8106,  -0.2135,   0.5126,  -0.8048,  -0.5678],\n",
       "       [ -7.6843,   3.3956,   9.8014,  -6.6143,   5.928 ,  -3.8842,  -3.7808,   4.2101],\n",
       "       [ -3.5346,   2.1897,   7.4512,  -4.8857,   4.5305,  -4.1268,  -2.533 ,   1.8042],\n",
       "       [ -2.2504,   0.7005,   2.3905,  -0.9496,  -0.018 ,  -0.5997,   0.3339,   0.5902],\n",
       "       [  0.4357,  -0.3985,  -2.252 ,   1.3181,  -0.6441,   0.985 ,  -0.3729,   1.7568],\n",
       "       [ -0.0163,  -0.6329,  -0.7475,   1.1258,   0.1409,   0.2534,  -0.0269,   0.2388],\n",
       "       [  5.6728,  -3.2507,  -6.7934,   4.4969,  -4.3379,   3.6426,   2.9002,  -2.3692],\n",
       "       [ 11.2028,  -4.0749, -13.2031,   7.3686,  -7.5121,   5.3903,   6.8934,  -7.7882]])"
      ]
     },
     "metadata": {},
     "output_type": "display_data"
    },
    {
     "name": "stdout",
     "output_type": "stream",
     "text": [
      "---\n"
     ]
    },
    {
     "data": {
      "text/plain": [
       "A := array([[-31.1404,  18.2085,  61.43  , -41.1915,  40.4077, -32.6038, -24.8319,  15.6446],\n",
       "       [-38.811 ,  21.5558,  72.213 , -48.901 ,  52.228 , -38.2329, -34.9259,  21.6708],\n",
       "       [-16.9691,  10.6084,  38.4888, -27.0318,  33.9398, -23.5277, -21.9292,  12.6095],\n",
       "       [-13.1403,   5.3193,  30.8959, -17.8243,  33.4693, -21.5973, -21.6032,  11.2452],\n",
       "       [-57.2454,  20.0419,  74.1459, -41.4598,  49.4568, -33.3291, -32.8265,  33.7939],\n",
       "       [-48.3248,  20.8473,  64.7825, -42.2174,  42.6074, -27.8621, -28.9019,  28.6207],\n",
       "       [-39.5414,  16.8345,  61.3166, -38.6558,  48.478 , -31.4837, -33.926 ,  25.6582],\n",
       "       [-16.2027,  10.0763,  36.0514, -24.7414,  26.1481, -19.9538, -15.8914,   6.7515]])"
      ]
     },
     "metadata": {},
     "output_type": "display_data"
    },
    {
     "name": "stdout",
     "output_type": "stream",
     "text": [
      "---\n"
     ]
    }
   ],
   "source": [
    "Tinv = np.linalg.inv(T) ##:\n",
    "\n",
    "A = np.dot(T, np.dot(D, Tinv)) ##:"
   ]
  },
  {
   "cell_type": "markdown",
   "metadata": {},
   "source": [
    "Now, forget about $T$ and $D$. We want to diagonalize $A$ by ourselves."
   ]
  },
  {
   "cell_type": "code",
   "execution_count": 32,
   "metadata": {},
   "outputs": [
    {
     "data": {
      "text/plain": [
       "res := (array([-9.8,  5.5,  7.4,  9.2, -3.6, -3.8,  0.3,  0.3]),\n",
       " array([[ 0.2185, -0.159 , -0.4809, -0.0037, -0.2209,  0.3562, -0.4171, -0.017 ],\n",
       "        [ 0.4872, -0.2689, -0.4487, -0.0692, -0.4995,  0.5754, -0.0759,  0.853 ],\n",
       "        [ 0.4194, -0.1851, -0.4181, -0.2024, -0.0877,  0.1203, -0.556 , -0.0696],\n",
       "        [ 0.474 , -0.0448, -0.4362, -0.6232, -0.1997,  0.2696, -0.2191,  0.4665],\n",
       "        [ 0.033 , -0.5137, -0.2131, -0.6278, -0.4858,  0.2088, -0.1592,  0.1432],\n",
       "        [ 0.1356, -0.6781, -0.1046, -0.1312, -0.2594,  0.0876, -0.6269, -0.1026],\n",
       "        [ 0.4689, -0.361 , -0.272 , -0.3904, -0.5662,  0.4104, -0.0947, -0.0165],\n",
       "        [ 0.2739, -0.11  , -0.2684, -0.0462, -0.1739,  0.4849, -0.1891, -0.1351]]))"
      ]
     },
     "metadata": {},
     "output_type": "display_data"
    },
    {
     "name": "stdout",
     "output_type": "stream",
     "text": [
      "---\n"
     ]
    }
   ],
   "source": [
    "res = np.linalg.eig(A) ##:\n",
    "evals, evectors = res"
   ]
  },
  {
   "cell_type": "code",
   "execution_count": 36,
   "metadata": {},
   "outputs": [
    {
     "data": {
      "text/plain": [
       "J := array([[ -9.8000e+00,   2.5812e-14,   6.3790e-14,   8.5614e-15,  -9.2155e-15,  -8.6034e-15,   7.9276e-14,  -5.6677e-15],\n",
       "       [  1.7184e-13,   5.5000e+00,  -3.0615e-13,  -1.3574e-13,  -1.9005e-13,   1.5366e-13,  -4.0025e-13,  -1.0399e-14],\n",
       "       [  1.4187e-13,  -2.7233e-13,   7.4000e+00,  -8.9259e-14,  -1.8888e-13,   1.3266e-13,  -2.7933e-13,   1.0352e-14],\n",
       "       [ -1.7080e-14,   1.0655e-14,   3.0725e-14,   9.2000e+00,   1.2650e-15,  -8.2311e-15,   3.4820e-14,  -5.0448e-15],\n",
       "       [ -1.1921e-13,   2.5796e-13,   2.3202e-13,   9.2466e-15,  -3.6000e+00,  -1.3065e-13,   3.5247e-13,   1.1924e-14],\n",
       "       [  1.7621e-14,  -3.3034e-14,  -2.9359e-14,  -8.4684e-15,  -2.5954e-14,  -3.8000e+00,  -3.7853e-14,   6.8751e-16],\n",
       "       [ -1.2526e-13,   2.7043e-13,   2.4573e-13,   6.7909e-14,   1.6651e-13,  -1.2216e-13,   3.0000e-01,   3.1209e-14],\n",
       "       [  1.7301e-14,  -2.0600e-14,  -1.1697e-14,   1.3681e-17,  -3.1014e-14,   2.1705e-14,  -6.9973e-15,   3.0000e-01]])"
      ]
     },
     "metadata": {},
     "output_type": "display_data"
    },
    {
     "name": "stdout",
     "output_type": "stream",
     "text": [
      "---\n"
     ]
    }
   ],
   "source": [
    "# convenience: allow arbitrary arguments to np.dot\n",
    "def mydot(*args):\n",
    "    \n",
    "    assert len(args) > 1\n",
    "    result = args[0]\n",
    "    for arg in args[1:]:\n",
    "        result = np.dot(result, arg)\n",
    "    return result\n",
    "\n",
    "\n",
    "# now perform transformation in Jordan form\n",
    "J = mydot(np.linalg.inv(evectors), A, evectors) ##:\n",
    "    "
   ]
  },
  {
   "cell_type": "code",
   "execution_count": 41,
   "metadata": {},
   "outputs": [
    {
     "data": {
      "text/plain": [
       "array([[-9.8,  0. ,  0. ,  0. , -0. , -0. ,  0. , -0. ],\n",
       "       [ 0. ,  5.5, -0. , -0. , -0. ,  0. , -0. , -0. ],\n",
       "       [ 0. , -0. ,  7.4, -0. , -0. ,  0. , -0. ,  0. ],\n",
       "       [-0. ,  0. ,  0. ,  9.2,  0. , -0. ,  0. , -0. ],\n",
       "       [-0. ,  0. ,  0. ,  0. , -3.6, -0. ,  0. ,  0. ],\n",
       "       [ 0. , -0. , -0. , -0. , -0. , -3.8, -0. ,  0. ],\n",
       "       [-0. ,  0. ,  0. ,  0. ,  0. , -0. ,  0.3,  0. ],\n",
       "       [ 0. , -0. , -0. ,  0. , -0. ,  0. , -0. ,  0.3]])"
      ]
     },
     "execution_count": 41,
     "metadata": {},
     "output_type": "execute_result"
    }
   ],
   "source": [
    "# suppress numerical nosie by using boolean indexation\n",
    "\n",
    "J[np.abs(J)<1e-6]*=0\n",
    "J"
   ]
  },
  {
   "cell_type": "code",
   "execution_count": 40,
   "metadata": {},
   "outputs": [
    {
     "data": {
      "text/plain": [
       "array([[ 0.3,  0. ,  0. ,  0. ,  0. ,  0. ,  0. ,  0. ],\n",
       "       [ 0. ,  5.5,  0. ,  0. ,  0. ,  0. ,  0. ,  0. ],\n",
       "       [ 0. ,  0. ,  7.4,  0. ,  0. ,  0. ,  0. ,  0. ],\n",
       "       [ 0. ,  0. ,  0. , -9.8,  0. ,  0. ,  0. ,  0. ],\n",
       "       [ 0. ,  0. ,  0. ,  0. , -3.8,  0. ,  0. ,  0. ],\n",
       "       [ 0. ,  0. ,  0. ,  0. ,  0. ,  9.2,  0. ,  0. ],\n",
       "       [ 0. ,  0. ,  0. ,  0. ,  0. ,  0. ,  0.3,  0. ],\n",
       "       [ 0. ,  0. ,  0. ,  0. ,  0. ,  0. ,  0. , -3.6]])"
      ]
     },
     "execution_count": 40,
     "metadata": {},
     "output_type": "execute_result"
    }
   ],
   "source": [
    "# compare to original matrix (differences due to sorting)\n",
    "\n",
    "D"
   ]
  }
 ],
 "metadata": {
  "kernelspec": {
   "display_name": "Python 3",
   "language": "python",
   "name": "python3"
  },
  "language_info": {
   "codemirror_mode": {
    "name": "ipython",
    "version": 3
   },
   "file_extension": ".py",
   "mimetype": "text/x-python",
   "name": "python",
   "nbconvert_exporter": "python",
   "pygments_lexer": "ipython3",
   "version": "3.5.3"
  }
 },
 "nbformat": 4,
 "nbformat_minor": 2
}
